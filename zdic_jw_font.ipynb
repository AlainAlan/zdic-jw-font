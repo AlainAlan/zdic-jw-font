{
 "cells": [
  {
   "cell_type": "code",
   "execution_count": 1,
   "metadata": {},
   "outputs": [],
   "source": [
    "# 搗包\n",
    "import os\n",
    "import requests\n",
    "from bs4 import BeautifulSoup\n",
    "import urllib.parse\n",
    "import time\n",
    "import opencc"
   ]
  },
  {
   "cell_type": "markdown",
   "metadata": {},
   "source": [
    "# 挑選字符"
   ]
  },
  {
   "cell_type": "code",
   "execution_count": 18,
   "metadata": {},
   "outputs": [
    {
     "name": "stdout",
     "output_type": "stream",
     "text": [
      "13061\n",
      "6000\n"
     ]
    },
    {
     "data": {
      "text/plain": [
       "['的', '是', '不', '我', '一']"
      ]
     },
     "execution_count": 18,
     "metadata": {},
     "output_type": "execute_result"
    }
   ],
   "source": [
    "字頻 = []\n",
    "with open('characters_traditional_frequencies.csv', 'r',encoding='utf8') as f: # 您瞧這名字多長\n",
    "    lines = f.readlines()\n",
    "    print(len(lines))\n",
    "    for line in lines[0:6000]:\n",
    "        字頻.append(line.split(',')[0].strip())\n",
    "print(len(字頻))\n",
    "字頻[0:5]\n",
    "# 第一個是什麽鬼\n",
    "字頻.pop(0)\n",
    "字頻[0:5]"
   ]
  },
  {
   "cell_type": "markdown",
   "metadata": {},
   "source": [
    "# 爬取字符"
   ]
  },
  {
   "cell_type": "code",
   "execution_count": 3,
   "metadata": {},
   "outputs": [],
   "source": [
    "headers = {'User-Agent': 'Mozilla/5.0 (Windows NT 10.0; Win64; x64) AppleWebKit/537.36 (KHTML, like Gecko) Chrome/90.0.4430.212 Safari/537.36'}"
   ]
  },
  {
   "cell_type": "code",
   "execution_count": 5,
   "metadata": {},
   "outputs": [],
   "source": [
    "# 字頻[799]\n",
    "# # 確認某個位置是不是某個字\n",
    "# # double-check"
   ]
  },
  {
   "cell_type": "code",
   "execution_count": 23,
   "metadata": {},
   "outputs": [
    {
     "data": {
      "text/plain": [
       "5998"
      ]
     },
     "execution_count": 23,
     "metadata": {},
     "output_type": "execute_result"
    }
   ],
   "source": [
    "字頻.index('璫')\n",
    "# # 這個用來檢查現在爬蟲到第幾個字了\n",
    "# # 在爬蟲過程中我是在另外一個ipynb裏檢查的"
   ]
  },
  {
   "cell_type": "code",
   "execution_count": 22,
   "metadata": {
    "scrolled": true
   },
   "outputs": [
    {
     "name": "stdout",
     "output_type": "stream",
     "text": [
      "苜沒有金文\n",
      "桅沒有金文\n",
      "砭沒有金文\n",
      "訌沒有金文\n",
      "笞沒有金文\n",
      "鈽沒有金文\n",
      "奭沒有金文\n",
      "縊沒有金文\n",
      "壙沒有金文\n",
      "奼沒有金文\n",
      "柸沒有金文\n",
      "枵沒有金文\n",
      "洘沒有金文\n",
      "圇沒有金文\n",
      "祤沒有金文\n",
      "菘沒有金文\n",
      "嫋沒有金文\n",
      "煲沒有金文\n",
      "煐沒有金文\n",
      "睒沒有金文\n",
      "蒔沒有金文\n",
      "嘳沒有金文\n",
      "薙沒有金文\n",
      "鍠沒有金文\n",
      "鶡沒有金文\n",
      "仳沒有金文\n",
      "牝沒有金文\n",
      "氤沒有金文\n",
      "匏沒有金文\n",
      "堰沒有金文\n",
      "閎沒有金文\n",
      "煬沒有金文\n",
      "嬈沒有金文\n",
      "縉沒有金文\n",
      "鷂沒有金文\n",
      "蘸沒有金文\n",
      "扙沒有金文\n",
      "妗沒有金文\n",
      "沏沒有金文\n",
      "玓沒有金文\n",
      "苺沒有金文\n",
      "栴沒有金文\n",
      "烔沒有金文\n",
      "蚋沒有金文\n",
      "凐沒有金文\n",
      "詎沒有金文\n",
      "嫈沒有金文\n",
      "廕沒有金文\n",
      "漼沒有金文\n",
      "璆沒有金文\n",
      "澪沒有金文\n",
      "顗沒有金文\n",
      "鶇沒有金文\n",
      "鶖沒有金文\n",
      "灩沒有金文\n",
      "怩沒有金文\n",
      "剜沒有金文\n",
      "戛沒有金文\n",
      "橈沒有金文\n",
      "优沒有金文\n",
      "冱沒有金文\n",
      "呲沒有金文\n",
      "怹沒有金文\n",
      "苾沒有金文\n",
      "苡沒有金文\n",
      "砢沒有金文\n",
      "茩沒有金文\n",
      "痟沒有金文\n",
      "誒沒有金文\n",
      "諢沒有金文\n",
      "擣沒有金文\n",
      "闓沒有金文\n",
      "韙沒有金文\n",
      "蠓沒有金文\n",
      "臠沒有金文\n",
      "胰沒有金文\n",
      "篙沒有金文\n",
      "闈沒有金文\n",
      "櫺沒有金文\n",
      "蘚沒有金文\n",
      "芼沒有金文\n",
      "倢沒有金文\n",
      "砵沒有金文\n",
      "悾沒有金文\n",
      "捵沒有金文\n",
      "珽沒有金文\n",
      "蚼沒有金文\n",
      "傒沒有金文\n",
      "棑沒有金文\n",
      "硞沒有金文\n",
      "寘沒有金文\n",
      "楂沒有金文\n",
      "稙沒有金文\n",
      "暪沒有金文\n",
      "謖沒有金文\n",
      "嚙沒有金文\n",
      "櫫沒有金文\n",
      "蘶沒有金文\n",
      "汛沒有金文\n",
      "峒沒有金文\n",
      "漯沒有金文\n",
      "擭沒有金文\n",
      "聱沒有金文\n",
      "黷沒有金文\n",
      "俇沒有金文\n",
      "姽沒有金文\n",
      "萁沒有金文\n",
      "亄沒有金文\n",
      "葥沒有金文\n",
      "潳沒有金文\n",
      "魠沒有金文\n",
      "獞沒有金文\n",
      "磲沒有金文\n",
      "鴽沒有金文\n",
      "鐿沒有金文\n",
      "鶼沒有金文\n",
      "枓沒有金文\n",
      "琺沒有金文\n",
      "稈沒有金文\n",
      "櫝沒有金文\n",
      "襖沒有金文\n",
      "鐫沒有金文\n",
      "吨沒有金文\n",
      "柀沒有金文\n",
      "枳沒有金文\n",
      "秏沒有金文\n",
      "淯沒有金文\n",
      "婐沒有金文\n",
      "掮沒有金文\n",
      "莪沒有金文\n",
      "堸沒有金文\n",
      "渼沒有金文\n",
      "篫沒有金文\n",
      "諤沒有金文\n",
      "艟沒有金文\n",
      "龕沒有金文\n",
      "佾沒有金文\n",
      "隄沒有金文\n",
      "楛沒有金文\n",
      "痿沒有金文\n",
      "嚅沒有金文\n",
      "谿沒有金文\n",
      "繒沒有金文\n",
      "氘沒有金文\n",
      "阨沒有金文\n",
      "俓沒有金文\n",
      "娸沒有金文\n",
      "痐沒有金文\n",
      "紺沒有金文\n",
      "焱沒有金文\n",
      "猢沒有金文\n",
      "廋沒有金文\n",
      "椳沒有金文\n",
      "赨沒有金文\n",
      "靸沒有金文\n",
      "僯沒有金文\n",
      "熞沒有金文\n",
      "瘜沒有金文\n",
      "蝮沒有金文\n",
      "歕沒有金文\n",
      "鵂沒有金文\n",
      "嚝沒有金文\n",
      "譠沒有金文\n",
      "鷈沒有金文\n",
      "驒沒有金文\n",
      "鷿沒有金文\n",
      "祆沒有金文\n",
      "菟沒有金文\n",
      "暍沒有金文\n",
      "痳沒有金文\n",
      "摭沒有金文\n",
      "膂沒有金文\n",
      "遛沒有金文\n",
      "歙沒有金文\n",
      "壎沒有金文\n",
      "醱沒有金文\n",
      "羼沒有金文\n",
      "呅沒有金文\n",
      "俅沒有金文\n",
      "挎沒有金文\n",
      "挳沒有金文\n",
      "唪沒有金文\n",
      "珺沒有金文\n",
      "笘沒有金文\n",
      "揂沒有金文\n",
      "蛺沒有金文\n",
      "魈沒有金文\n",
      "懰沒有金文\n",
      "禰沒有金文\n",
      "翾沒有金文\n",
      "舋沒有金文\n",
      "汴沒有金文\n",
      "皴沒有金文\n",
      "嶔沒有金文\n",
      "撚沒有金文\n",
      "嬪沒有金文\n",
      "癆沒有金文\n",
      "黜沒有金文\n",
      "孀沒有金文\n",
      "罌沒有金文\n",
      "襬沒有金文\n",
      "忯沒有金文\n",
      "佸沒有金文\n",
      "呤沒有金文\n",
      "挀沒有金文\n",
      "柷沒有金文\n",
      "炷沒有金文\n",
      "眥沒有金文\n",
      "搕沒有金文\n",
      "腩沒有金文\n",
      "撗沒有金文\n",
      "諗沒有金文\n",
      "嬛沒有金文\n",
      "骿沒有金文\n",
      "旛沒有金文\n",
      "襌沒有金文\n",
      "齀沒有金文\n",
      "鐙沒有金文\n",
      "鰈沒有金文\n",
      "鱆沒有金文\n",
      "鷦沒有金文\n",
      "魙沒有金文\n",
      "圯沒有金文\n",
      "舛沒有金文\n",
      "耄沒有金文\n",
      "鍔沒有金文\n",
      "齜沒有金文\n",
      "髖沒有金文\n",
      "佷沒有金文\n",
      "侗沒有金文\n",
      "怞沒有金文\n",
      "矸沒有金文\n",
      "珅沒有金文\n",
      "涗沒有金文\n",
      "偑沒有金文\n",
      "啍沒有金文\n",
      "挻沒有金文\n",
      "捰沒有金文\n",
      "搰沒有金文\n",
      "楜沒有金文\n",
      "溏沒有金文\n",
      "睕沒有金文\n",
      "羥沒有金文\n",
      "葀沒有金文\n",
      "慓沒有金文\n",
      "蜚沒有金文\n",
      "嬅沒有金文\n",
      "禛沒有金文\n",
      "醐沒有金文\n",
      "璫沒有金文\n"
     ]
    }
   ],
   "source": [
    "# for zi in 字頻[79:100]:\n",
    "for zi in 字頻[5700:6000]:\n",
    "#     print(zi)\n",
    "    zi_parse = urllib.parse.quote(zi)\n",
    "    url = 'https://www.zdic.net/zd/zx/jw/' + zi_parse\n",
    "    r = requests.get(url,headers=headers)\n",
    "    text = r.text\n",
    "    soup = BeautifulSoup(text, 'html.parser')\n",
    "    try:\n",
    "        jw = soup.find(name='div',attrs={\"class\": \"zy1\"})\n",
    "        img_list = jw.find_all(name='img')\n",
    "        \n",
    "        headers['Referer'] = url\n",
    "\n",
    "        for img in img_list[0:1]:\n",
    "            # 暫時只要第一個\n",
    "            src = 'https:'+ img.get('data-original')\n",
    "            res = requests.get(url=src,headers=headers)\n",
    "            filename = zi+'.svg'\n",
    "            with open(filename,'wb') as f:\n",
    "                f.write(res.content)        \n",
    "    except:\n",
    "        print(zi+'沒有金文')\n",
    "        time.sleep(8)\n",
    "        continue\n",
    "    time.sleep(9)"
   ]
  },
  {
   "cell_type": "markdown",
   "metadata": {},
   "source": [
    "## 查漏補缺"
   ]
  },
  {
   "cell_type": "code",
   "execution_count": 24,
   "metadata": {},
   "outputs": [],
   "source": [
    "# GB2312全部單字\n",
    "GB2312 = []\n",
    "with open('GB2312.txt','r',encoding='utf8') as gb:\n",
    "    lines = gb.readlines()\n",
    "    for line in lines:\n",
    "        for word in line.strip():\n",
    "            GB2312.append(word)"
   ]
  },
  {
   "cell_type": "code",
   "execution_count": 25,
   "metadata": {},
   "outputs": [],
   "source": [
    "converter = opencc.OpenCC('t2s.json')\n",
    "# converter.convert('汉字')  # 漢字\n",
    "zipin_s = []\n",
    "for char in 字頻:\n",
    "    char_s = converter.convert(char)\n",
    "    zipin_s.append(char_s)\n",
    "zipin_lack = list(set(GB2312).difference(set(zipin_s)))\n",
    "# 字頻中所有字符簡化，求差，備用（需要補充爬取，雖然幾乎不會有字）"
   ]
  },
  {
   "cell_type": "code",
   "execution_count": 26,
   "metadata": {},
   "outputs": [
    {
     "name": "stdout",
     "output_type": "stream",
     "text": [
      "1549\n",
      "['镤', '窀', '墒', '篥', '蒗', '钕', '缣', '裣', '饧', '宀', '葜', '喾', '楦', '螋', '瀹', '劬', '逡', '橐', '岣', '爝', '冫', '馑', '茭', '跬', '伲', '鹑', '荭', '鲼', '醅', '谘', '鹋', '荑', '儋', '钯', '螗', '碛', '亠', '搠', '貊', '诖', '瘿', '瘃', '蜞', '禚', '讠', '蠖', '瓿', '眍', '郄', '绂', '桊', '莩', '圩', '祧', '莨', '谰', '僖', '冁', '剀', '歆', '跗', '鲇', '砩', '纩', '狻', '镩', '荜', '瘕', '聍', '珙', '毪', '舭', '酞', '邗', '倮', '纟', '脒', '嘞', '猃', '蝤', '粢', '睃', '瘛', '毂', '埚', '簏', '仨', '媪', '鞔', '躜', '躔', '舾', '礓', '岽', '潍', '蕖', '粜', '峄', '铞', '镥', '汆', '桁', '芏', '嗬', '痖', '锔', '酃', '桉', '榘', '蹯', '镨', '聃', '钇', '漭', '龋', '攮', '蝥', '嗾', '妪', '罱', '疖', '煺', '茏', '觏', '腈', '蛲', '鳇', '茛', '铯', '淝', '渖', '溆', '襻', '蘼', '栳', '猓', '萘', '晗', '蔹', '檑', '悃', '娈', '旆', '俜', '挢', '乾', '滹', '嵬', '攴', '厍', '酽', '祛', '艿', '黢', '谫', '儇', '眙', '镦', '枨', '钬', '仫', '陬', '徭', '煸', '钎', '豢', '鲎', '脬', '郐', '苈', '犰', '趿', '啶', '鳙', '溴', '洇', '毖', '彡', '嗥', '磔', '箢', '涑', '耱', '恝', '郧', '咣', '肀', '徂', '耋', '琊', '噍', '馕', '蝰', '滠', '缒', '瞀', '赇', '溘', '幞', '笏', '嶝', '痤', '炻', '腙', '癯', '鲵', '溱', '豳', '庋', '骺', '轷', '捭', '齑', '糨', '甯', '搽', '氪', '塬', '绔', '酏', '牮', '迓', '缫', '舄', '薅', '砻', '镞', '芟', '岿', '燠', '罾', '芈', '邡', '锝', '胩', '匚', '畲', '殪', '蕹', '蠃', '衄', '鄹', '麸', '喁', '桴', '沆', '垤', '冖', '耪', '硖', '黹', '椽', '滏', '甍', '癍', '泶', '牿', '拊', '肽', '蓥', '纡', '秫', '耥', '韫', '礻', '犄', '髀', '蘅', '鎏', '鲧', '醢', '醵', '栝', '萑', '妊', '噼', '鲦', '鲱', '颡', '仵', '畛', '胨', '缧', '豇', '茺', '擀', '酆', '篝', '鹱', '祓', '掾', '鼷', '箧', '苕', '诮', '脎', '礴', '锖', '劓', '鸷', '褰', '荸', '狁', '毵', '硇', '轵', '闶', '毹', '蒈', '杈', '沣', '崤', '戥', '粑', '墚', '柝', '耩', '蒎', '鹛', '镏', '蛐', '觚', '揸', '蓣', '佴', '栊', '鲭', '钆', '邴', '铘', '钪', '酎', '圊', '跽', '蟓', '茌', '裢', '丶', '焐', '溲', '蕲', '镢', '薷', '隳', '畈', '囟', '筇', '盱', '阈', '砘', '撄', '缵', '鳎', '眵', '螽', '磉', '搴', '骒', '镡', '崮', '髹', '陔', '锞', '氅', '庥', '坌', '菏', '蛑', '卣', '漤', '叁', '唛', '氵', '硎', '羰', '镬', '钜', '岢', '铍', '肫', '躞', '唣', '桷', '匦', '摁', '炱', '骝', '揞', '呶', '枧', '滗', '悫', '筮', '鳜', '鳊', '峪', '瘭', '阝', '痦', '麈', '箅', '剡', '旯', '肷', '俣', '焖', '觜', '镓', '咴', '嘌', '诔', '岘', '臁', '馐', '疬', '墁', '鹕', '蛞', '隰', '崦', '瑭', '蓿', '瓞', '辏', '嵛', '沤', '狳', '臌', '飧', '戋', '鹌', '尕', '辋', '罅', '灞', '犏', '锘', '醪', '呋', '妯', '埯', '愦', '幛', '卩', '铒', '樾', '铑', '厶', '锕', '硅', '塄', '蚺', '隈', '扌', '铽', '黼', '屺', '鄞', '柃', '璺', '仡', '腽', '醣', '笮', '癔', '诹', '酰', '舻', '肼', '垆', '蒇', '嘭', '獍', '澉', '螵', '慝', '蒽', '菥', '镝', '咔', '牾', '嵫', '殚', '噔', '勹', '虼', '蘖', '揲', '牖', '犸', '哳', '钭', '黟', '钷', '锃', '筻', '郾', '钅', '鼋', '蜣', '嘣', '驸', '楸', '癜', '硌', '箐', '仂', '絷', '瘙', '夥', '猗', '墀', '锛', '鲚', '勐', '蛏', '苊', '笸', '阼', '樗', '裰', '劁', '檎', '湓', '蟊', '恽', '舡', '滦', '耵', '郴', '胪', '軎', '氍', '脶', '嚆', '耒', '蚧', '砀', '甙', '逭', '骘', '葶', '氇', '铴', '蹰', '椋', '笄', '锎', '鹚', '赳', '蔌', '楮', '蕻', '疸', '婺', '钒', '铆', '肟', '杼', '苋', '嘏', '矍', '蒺', '帔', '锊', '妫', '蜊', '贶', '凼', '洎', '钼', '觖', '蔸', '堋', '樯', '佟', '傈', '瘢', '吒', '檄', '颃', '煳', '炝', '蛴', '芄', '槊', '皲', '烀', '沭', '苌', '簖', '睚', '垲', '铰', '洫', '埭', '蟮', '邙', '葸', '蚍', '嗉', '殳', '麇', '撙', '刭', '煨', '菔', '吡', '醑', '禊', '铷', '铼', '埏', '焓', '撺', '阄', '芾', '埝', '颥', '廑', '饩', '荠', '赉', '嗍', '崂', '筢', '椁', '觇', '甓', '溷', '坭', '貔', '阏', '钫', '赍', '唁', '驵', '缁', '芰', '埴', '赜', '攉', '铈', '鞴', '燔', '埽', '硷', '憷', '嘧', '煊', '鞲', '虿', '槿', '鲒', '踬', '硗', '缬', '涞', '郫', '荥', '裉', '垡', '骶', '骟', '疳', '傣', '唼', '铩', '酶', '胗', '屦', '芨', '敉', '糅', '镘', '跖', '澶', '蟛', '鲻', '呔', '腭', '湫', '訇', '蛉', '蝓', '娅', '鳔', '跣', '箬', '艴', '彖', '迮', '檗', '酴', '溧', '竦', '赙', '踔', '獬', '砼', '纥', '缗', '贽', '呙', '猱', '椹', '悛', '嫠', '鲐', '藜', '碚', '槲', '豉', '髌', '荬', '湎', '觫', '湔', '铟', '掊', '鳋', '謦', '郦', '锏', '杩', '蘧', '攵', '崆', '觌', '椤', '堙', '毳', '沩', '峁', '埒', '醭', '溻', '樘', '丬', '缲', '憝', '珉', '铫', '夼', '濉', '瘘', '阽', '惝', '玳', '篼', '卟', '滓', '锪', '薤', '骣', '珏', '蠛', '糍', '塍', '嫒', '躐', '鬲', '皤', '锇', '圪', '檩', '郏', '犟', '鲡', '佥', '殍', '苴', '轹', '崾', '掸', '翥', '稆', '疰', '鳐', '茴', '哏', '缌', '莼', '鹇', '铕', '髟', '菰', '狃', '糌', '穑', '畋', '锿', '腠', '衽', '秸', '螨', '潆', '秭', '噻', '茈', '炔', '哚', '荮', '泺', '岵', '铊', '哌', '罘', '飑', '鲺', '阢', '垧', '桄', '昵', '榧', '榍', '瀣', '喱', '诓', '锫', '聩', '蓐', '饣', '螅', '乇', '髂', '秕', '芑', '簋', '鲰', '孬', '傺', '膦', '舁', '灬', '瘌', '谇', '藁', '锓', '鲮', '廒', '麴', '诜', '墼', '嵯', '蒡', '埘', '僳', '兕', '罴', '逶', '塥', '媵', '馇', '坶', '镄', '镟', '筘', '挲', '砦', '鲩', '狴', '翮', '裼', '郓', '蟥', '羝', '凵', '蓍', '荩', '籴', '庑', '浜', '猞', '勰', '泖', '穸', '膻', '洳', '鹳', '垌', '鞣', '郇', '赆', '岙', '篦', '廴', '罨', '鬯', '襞', '邶', '娠', '蒯', '欹', '嵊', '於', '绲', '铌', '镧', '莜', '朊', '茑', '酐', '衩', '搡', '绱', '碹', '鲕', '罟', '膪', '邕', '闫', '礤', '渫', '龀', '镔', '苫', '勖', '蘩', '瘼', '笤', '嗌', '魃', '蒴', '汊', '趸', '阆', '榀', '穰', '廨', '绺', '彀', '恧', '窨', '绠', '鞯', '谝', '佝', '缃', '艏', '舸', '锑', '脘', '窬', '觯', '蛳', '楫', '夂', '胲', '薹', '縻', '迕', '踺', '煅', '岈', '鄯', '蜱', '鋈', '轱', '邛', '锨', '锆', '铹', '艽', '黻', '偾', '堍', '泸', '氙', '觥', '氽', '馘', '踣', '稃', '嶷', '鬈', '虢', '忄', '缋', '铪', '疽', '耔', '獯', '舂', '鞒', '锍', '眚', '鹨', '耜', '虺', '佤', '硭', '裒', '搦', '苄', '趄', '瘥', '瘅', '镎', '嘬', '艚', '爨', '簟', '簦', '徇', '飚', '鲅', '氲', '搿', '砹', '坩', '鐾', '葺', '瘊', '眄', '鬻', '摞', '袼', '陧', '泮', '脞', '嵇', '肜', '诼', '顼', '菪', '猸', '氚', '謇', '掎', '廪', '涫', '徵', '杌', '辊', '跸', '濞', '嗵', '栌', '揎', '沲', '榱', '耠', '後', '酤', '哐', '怃', '獾', '虍', '僦', '阌', '搌', '洙', '菖', '芘', '猹', '赭', '涿', '葙', '邳', '眇', '鼙', '茚', '侔', '擐', '瘗', '猊', '螭', '髫', '袢', '耢', '挝', '甏', '蛸', '蛩', '禳', '鼽', '菽', '疔', '捃', '鳆', '浈', '滁', '悝', '眢', '淠', '铱', '猁', '扃', '痃', '氩', '砜', '菹', '抻', '摈', '趼', '缶', '伢', '嬗', '瞽', '遒', '郛', '梃', '趑', '蒉', '垅', '徼', '虻', '嗪', '馓', '蝻', '鹈', '颛', '钶', '槎', '掼', '綮', '崞', '钋', '腚', '杪', '氆', '鼯', '浔', '帙', '珧', '孛', '筲', '肭', '桫', '犴', '嬖', '淄', '蜮', '杲', '谮', '饽', '蜾', '胬', '缂', '珥', '萜', '怫', '鳘', '撸', '慊', '礅', '鹩', '玢', '怄', '棰', '锼', '掭', '衤', '捱', '犭', '蚶', '耖', '阚', '碡', '潴', '堠', '髁', '噙', '喹', '冂', '撖', '胍', '蠲', '觋', '橼', '饔', '茇', '蹿', '鸬', '萆', '蠊', '贳', '熘', '鲴', '朐', '笫', '鳓', '瓤', '戤', '亻', '巛', '酾', '铤', '叻', '着', '鄄', '铥', '鄣', '柙', '拶', '蓖', '蟪', '丨', '檠', '僬', '驺', '骀', '疃', '圉', '嵝', '鸸', '溽', '蚨', '阍', '笱', '伧', '羧', '鬣', '垸', '畎', '癀', '錾', '哜', '狍', '鹾', '趔', '笥', '辁', '麂', '舣', '芤', '鞫', '嫫', '旃', '砬', '厣', '椴', '袤', '胂', '犋', '篚', '鄱', '袷', '戗', '痄', '籼', '哕', '圮', '虮', '桕', '瘵', '馀', '麽', '醌', '貅', '伛', '艨', '甑', '泔', '镪', '鲂', '辚', '槔', '刳', '痫', '橛', '箨', '漶', '仉', '渌', '铖', '菝', '沔', '阃', '瞍', '愀', '糁', '矧', '鏊', '旰', '绉', '椐', '渑', '枘', '锩', '蚰', '锬', '骢', '楱', '蔟', '柽', '莛', '廛', '莸', '丿', '镅', '蓰', '陴', '窭', '黥', '郯', '缡', '忭', '熳', '锺', '楗', '镙', '瘳', '酡', '帻', '奁', '綦', '磙', '绨', '颞', '晁', '莶', '疣', '凫', '哓', '铧', '侉', '汩', '澌', '恂', '浠', '莰', '郗', '秣', '柁', '骱', '巯', '绦', '歃', '泐', '锸', '蠼', '砣', '粝', '摺', '蚬', '钽', '陟', '椠', '菸', '焘', '茳', '钌', '鲟', '涝', '骜', '雒', '怊', '鹎', '桤', '鲋', '鼢', '砑', '阊', '庀', '箜', '剞', '宄', '摅', '劐', '碲', '蕺', '胙', '籀', '嚯', '糈', '疒', '岜', '礞', '彐', '龠', '耷', '谳', '篪', '辂', '藿', '谠', '浍', '嘁', '铋', '蜩', '螓', '卮', '髭', '饫', '佧', '跹', '脲', '洧', '媸', '髡', '搛', '钔', '跞', '箦', '蝽', '刖', '吖', '銎', '龅', '鲆', '钚', '绋', '旮', '詈', '碜', '腧', '蝈', '芗', '鲞', '烃', '亓', '蹁', '唑', '蛄', '瀵', '矾', '痈', '辶', '鼗', '蒌', '氕', '苘', '糇', '缛', '舳', '暌', '唿', '哙', '趱', '讣', '趵', '邾', '鲣', '隗', '蹀', '栎', '襦', '嵴', '螬', '坂', '荽', '狲', '旒', '膣', '潲', '刿', '鼍', '耧', '洚', '湟', '呖', '镆', '馍', '瑁', '齄', '髑', '篌', '劂', '搋', '笊', '缍', '垴', '鍪', '鸹', '舯', '硒', '酲', '狨', '缳', '幺', '谵', '阗', '蚴', '倥', '嫱', '哿', '堞', '枞', '镊', '癃', '逯', '绗', '咝', '绐', '鬏', '婧', '觳', '吣', '褙', '揿', '偻', '嫘', '苁', '帱', '瓴', '尜', '苷', '筅', '崃', '稂', '缑', '黪', '眯', '膘', '瞢', '屮', '槠', '凇', '棼', '钐', '撅', '颏', '甾', '戬', '瘰', '芪', '吲', '笾', '硪', '裥', '弪', '镲', '瞵', '轺', '檫', '艹', '笪', '坼', '訾', '坫', '繇', '卺', '粞', '垭', '啉', '嫜', '龆', '懑', '敫', '尥', '涠', '刂', '蓠', '赕', '缏', '浞', '鹁']\n"
     ]
    }
   ],
   "source": [
    "print(len(zipin_lack))\n",
    "print(zipin_lack)"
   ]
  },
  {
   "cell_type": "code",
   "execution_count": 29,
   "metadata": {},
   "outputs": [
    {
     "name": "stdout",
     "output_type": "stream",
     "text": [
      "0鏷沒有金文\n",
      "1窀沒有金文\n"
     ]
    },
    {
     "ename": "KeyboardInterrupt",
     "evalue": "",
     "output_type": "error",
     "traceback": [
      "\u001b[1;31m---------------------------------------------------------------------------\u001b[0m",
      "\u001b[1;31mAttributeError\u001b[0m                            Traceback (most recent call last)",
      "\u001b[1;32m<ipython-input-29-98b5cc5bf10c>\u001b[0m in \u001b[0;36m<module>\u001b[1;34m\u001b[0m\n\u001b[0;32m     16\u001b[0m         \u001b[0mjw\u001b[0m \u001b[1;33m=\u001b[0m \u001b[0msoup\u001b[0m\u001b[1;33m.\u001b[0m\u001b[0mfind\u001b[0m\u001b[1;33m(\u001b[0m\u001b[0mname\u001b[0m\u001b[1;33m=\u001b[0m\u001b[1;34m'div'\u001b[0m\u001b[1;33m,\u001b[0m\u001b[0mattrs\u001b[0m\u001b[1;33m=\u001b[0m\u001b[1;33m{\u001b[0m\u001b[1;34m\"class\"\u001b[0m\u001b[1;33m:\u001b[0m \u001b[1;34m\"zy1\"\u001b[0m\u001b[1;33m}\u001b[0m\u001b[1;33m)\u001b[0m\u001b[1;33m\u001b[0m\u001b[1;33m\u001b[0m\u001b[0m\n\u001b[1;32m---> 17\u001b[1;33m         \u001b[0mimg_list\u001b[0m \u001b[1;33m=\u001b[0m \u001b[0mjw\u001b[0m\u001b[1;33m.\u001b[0m\u001b[0mfind_all\u001b[0m\u001b[1;33m(\u001b[0m\u001b[0mname\u001b[0m\u001b[1;33m=\u001b[0m\u001b[1;34m'img'\u001b[0m\u001b[1;33m)\u001b[0m\u001b[1;33m\u001b[0m\u001b[1;33m\u001b[0m\u001b[0m\n\u001b[0m\u001b[0;32m     18\u001b[0m \u001b[1;33m\u001b[0m\u001b[0m\n",
      "\u001b[1;31mAttributeError\u001b[0m: 'NoneType' object has no attribute 'find_all'",
      "\nDuring handling of the above exception, another exception occurred:\n",
      "\u001b[1;31mKeyboardInterrupt\u001b[0m                         Traceback (most recent call last)",
      "\u001b[1;32m<ipython-input-29-98b5cc5bf10c>\u001b[0m in \u001b[0;36m<module>\u001b[1;34m\u001b[0m\n\u001b[0;32m     32\u001b[0m     \u001b[1;32mexcept\u001b[0m\u001b[1;33m:\u001b[0m\u001b[1;33m\u001b[0m\u001b[1;33m\u001b[0m\u001b[0m\n\u001b[0;32m     33\u001b[0m         \u001b[0mprint\u001b[0m\u001b[1;33m(\u001b[0m\u001b[0mstr\u001b[0m\u001b[1;33m(\u001b[0m\u001b[0mzipin_lack\u001b[0m\u001b[1;33m.\u001b[0m\u001b[0mindex\u001b[0m\u001b[1;33m(\u001b[0m\u001b[0mzi_s\u001b[0m\u001b[1;33m)\u001b[0m\u001b[1;33m)\u001b[0m \u001b[1;33m+\u001b[0m \u001b[0mzi\u001b[0m \u001b[1;33m+\u001b[0m \u001b[1;34m'沒有金文'\u001b[0m\u001b[1;33m)\u001b[0m \u001b[1;31m# 手動查索引太累了\u001b[0m\u001b[1;33m\u001b[0m\u001b[1;33m\u001b[0m\u001b[0m\n\u001b[1;32m---> 34\u001b[1;33m         \u001b[0mtime\u001b[0m\u001b[1;33m.\u001b[0m\u001b[0msleep\u001b[0m\u001b[1;33m(\u001b[0m\u001b[1;36m15\u001b[0m\u001b[1;33m)\u001b[0m\u001b[1;33m\u001b[0m\u001b[1;33m\u001b[0m\u001b[0m\n\u001b[0m\u001b[0;32m     35\u001b[0m         \u001b[1;32mcontinue\u001b[0m\u001b[1;33m\u001b[0m\u001b[1;33m\u001b[0m\u001b[0m\n\u001b[0;32m     36\u001b[0m     \u001b[0mtime\u001b[0m\u001b[1;33m.\u001b[0m\u001b[0msleep\u001b[0m\u001b[1;33m(\u001b[0m\u001b[1;36m8\u001b[0m\u001b[1;33m)\u001b[0m\u001b[1;33m\u001b[0m\u001b[1;33m\u001b[0m\u001b[0m\n",
      "\u001b[1;31mKeyboardInterrupt\u001b[0m: "
     ]
    }
   ],
   "source": [
    "s2t_converter = opencc.OpenCC('s2t.json')\n",
    "\n",
    "for zi_s in zipin_lack:\n",
    "    zi = s2t_converter.convert(zi_s)\n",
    "    # 先转成繁体字，按照繁体字比较靠谱些\n",
    "    # 反正这些是之前字频里面没有的\n",
    "    # 早知道就直接用GB2312爬了\n",
    "    # 最初只是想搞几个常用字而已\n",
    "    # 没想到后来心变大了\n",
    "    zi_parse = urllib.parse.quote(zi)\n",
    "    url = 'https://www.zdic.net/zd/zx/jw/' + zi_parse\n",
    "    r = requests.get(url,headers=headers)\n",
    "    text = r.text\n",
    "    soup = BeautifulSoup(text, 'html.parser')\n",
    "    try:\n",
    "        jw = soup.find(name='div',attrs={\"class\": \"zy1\"})\n",
    "        img_list = jw.find_all(name='img')\n",
    "        \n",
    "        headers['Referer'] = url\n",
    "        # 更新请求头，否则403\n",
    "        \n",
    "        for img in img_list[0:1]:\n",
    "            # 暫時只要第一個\n",
    "            # 其实以后可以做一个alternative字体\n",
    "            # 很多英文字体都有防止重复出现的替换字型\n",
    "            \n",
    "            src = 'https:'+ img.get('data-original')\n",
    "            res = requests.get(url=src,headers=headers)\n",
    "            filename = zi+'.svg'\n",
    "            with open(filename,'wb') as f:\n",
    "                f.write(res.content)        \n",
    "    except:\n",
    "        print(str(zipin_lack.index(zi_s)) + zi + '沒有金文') # 手動查索引太累了\n",
    "        time.sleep(15)\n",
    "        continue\n",
    "    time.sleep(8)"
   ]
  },
  {
   "cell_type": "markdown",
   "metadata": {},
   "source": [
    "# 鏡像給簡體字"
   ]
  },
  {
   "cell_type": "code",
   "execution_count": 30,
   "metadata": {},
   "outputs": [],
   "source": [
    "一簡對一繁之簡體字 = []\n",
    "一簡對多繁之簡體字 = []\n",
    "with open('STCharacters.txt','r',encoding='utf8') as st:\n",
    "    lines = st.readlines()\n",
    "    for line in lines:\n",
    "        a_dict = line.split('\\t')\n",
    "        k_s = a_dict[0]\n",
    "        v_t = a_dict[1].split(' ')\n",
    "        if len(v_t) == 1:\n",
    "            一簡對一繁之簡體字.append(k_s)\n",
    "        else:\n",
    "            一簡對多繁之簡體字.append(k_s)"
   ]
  },
  {
   "cell_type": "code",
   "execution_count": 31,
   "metadata": {},
   "outputs": [],
   "source": [
    "s2t_dict = {}\n",
    "with open('STCharacters.txt','r',encoding='utf8') as st:\n",
    "    lines = st.readlines()\n",
    "    for line in lines:\n",
    "        a_dict = line.split('\\t')\n",
    "        s = a_dict[0]\n",
    "        t = a_dict[1].strip()\n",
    "        s2t_dict[s] = t"
   ]
  },
  {
   "cell_type": "code",
   "execution_count": 39,
   "metadata": {},
   "outputs": [
    {
     "data": {
      "text/plain": [
       "522"
      ]
     },
     "execution_count": 39,
     "metadata": {},
     "output_type": "execute_result"
    }
   ],
   "source": [
    "L = []\n",
    "for home, dirs, files in os.walk('去水印'): \n",
    "     for file in files:\n",
    "        L.append(os.path.join(home, file))\n",
    "# len(L)\n",
    "list_of_svg_char = []\n",
    "for l in L:\n",
    "    char = l.split('.')[0][-1]\n",
    "    list_of_svg_char.append(char)\n",
    "# a = 0\n",
    "will_be_mirrored_s_char = []\n",
    "for s in list_of_svg_char:\n",
    "    ss = converter.convert(s)\n",
    "    if ss not in 一簡對多繁之簡體字 and ss not in list_of_svg_char:\n",
    "#     if s2t_dict[s] in list_of_svg_char:\n",
    "#         a += 1\n",
    "#         if s not in list_of_svg_char:\n",
    "        # 要保證這個簡體字型不僅有對應繁體字，\n",
    "        # 還要保證它本身不在已有的svg之内\n",
    "        will_be_mirrored_s_char.append(ss)\n",
    "            # 然後才鏡像之\n",
    "# print(a)\n",
    "len(will_be_mirrored_s_char)\n",
    "# 之後在js裏面鏡像，不複製本地文件\n",
    "# 在最後輸出之前要先去水印的\n",
    "# # 具體：\n",
    "# for s_char in will_be_mirrored_s_char:\n",
    "#     jscode = \"font.setSvg('\" + s_char + \"', fs.readFileSync('去水印/\" + s2t_dict[s] + \".svg').toString())\\n\""
   ]
  },
  {
   "cell_type": "markdown",
   "metadata": {},
   "source": [
    "# 去掉水印"
   ]
  },
  {
   "cell_type": "code",
   "execution_count": 33,
   "metadata": {},
   "outputs": [],
   "source": [
    "# 將爬取的全部文件放到“去水印”文件夾中\n",
    "# https://blog.csdn.net/qq_37174526/article/details/89489212\n",
    "from xml.dom.minidom import parse\n",
    "\n",
    "def 去水印(filename):\n",
    "    svg = parse(filename)\n",
    "    rootNode = svg.documentElement\n",
    "#     print(rootNode.nodeName)\n",
    "    gs = rootNode.getElementsByTagName(\"g\")\n",
    "    for g in gs:\n",
    "        if g.hasAttribute('fill'):\n",
    "            color = g.getAttribute('fill')\n",
    "            if color[-2:] in ['fa','fb','fc']:\n",
    "#                 print(color)\n",
    "                rootNode.removeChild(g)\n",
    "\n",
    "    path = rootNode.getElementsByTagName(\"path\")\n",
    "    for p in path:\n",
    "        if p.hasAttribute('fill'):\n",
    "            color = p.getAttribute('fill')\n",
    "    #         print(color[-2:])\n",
    "            if color[-2:] in ['fa','fb','fc']:\n",
    "#                 print(color)\n",
    "                rootNode.removeChild(p)\n",
    "    # print(rootNode.toxml())\n",
    "    with open(filename,'w') as f:\n",
    "        f.write(rootNode.toxml())\n",
    "        \n",
    "## 注釋：\n",
    "# 水印的位置和中英文是隨機的，但顔色是近似的，故而利用fill的顔色來判斷是否是水印\n",
    "# 在瀏覽器中不可見，但是在轉換爲字體之後，會顯現出顔色（單色）\n",
    "# 所以利用xml的優勢去除水印"
   ]
  },
  {
   "cell_type": "code",
   "execution_count": 34,
   "metadata": {},
   "outputs": [
    {
     "data": {
      "text/plain": [
       "1967"
      ]
     },
     "execution_count": 34,
     "metadata": {},
     "output_type": "execute_result"
    }
   ],
   "source": [
    "# 獲取所有文件名\n",
    "# 懶得寫代碼，沒有確認文件擴展名，\n",
    "# 所以需要手動刪除測試中生成的其他文件\n",
    "# L = []\n",
    "# for home, dirs, files in os.walk('去水印'): \n",
    "#      for file in files:\n",
    "#         L.append(os.path.join(home, file))\n",
    "# 這一步已經挪到了上面\n",
    "\n",
    "\n",
    "len(L)\n",
    "# https://www.cnblogs.com/frisk/p/11567175.html"
   ]
  },
  {
   "cell_type": "code",
   "execution_count": 35,
   "metadata": {},
   "outputs": [],
   "source": [
    "for l in L:\n",
    "    去水印(l)"
   ]
  },
  {
   "cell_type": "markdown",
   "metadata": {},
   "source": [
    "# 輸出Node.js代碼"
   ]
  },
  {
   "cell_type": "code",
   "execution_count": 44,
   "metadata": {},
   "outputs": [],
   "source": [
    "with open('create_font.js','w',encoding='utf8') as f:\n",
    "    f.write('''\n",
    "var fontCarrier = require('font-carrier')\\n\n",
    "var font = fontCarrier.create()\\n\n",
    "var fs = require('fs')\\n\n",
    "''')\n",
    "    # https://stackoverflow.com/questions/29835440/meteor-referenceerror-fs-is-not-defined\n",
    "    for l in L:\n",
    "        char = l.split('.')[0][-1]\n",
    "        jscode = \"font.setSvg('\" + char + \"', fs.readFileSync('\" + l.replace('\\\\','/') + \"').toString())\\n\"\n",
    "        f.write(jscode)\n",
    "    for s_char in will_be_mirrored_s_char:\n",
    "        t_char = s2t_converter.convert(s_char)\n",
    "        if t_char in list_of_svg_char:\n",
    "            jscode = \"font.setSvg('\" + s_char + \"', fs.readFileSync('去水印/\" + t_char + \".svg').toString())\\n\"\n",
    "            f.write(jscode)\n",
    "# 先注釋掉，輸出A式，搞完A式之後輸出B式\n",
    "    f.write('''\n",
    "font.output({\n",
    "    path: './iconfont'\n",
    "})\n",
    "    ''')"
   ]
  },
  {
   "cell_type": "markdown",
   "metadata": {},
   "source": [
    "# 後續操作\n",
    "打開PowerShell, 安裝font-carrier后\n",
    "輸入\n",
    "```\n",
    "node create_font.js\n",
    "```\n",
    "即可獲得輸出的多種格式的字體文件"
   ]
  }
 ],
 "metadata": {
  "kernelspec": {
   "display_name": "Python 3",
   "language": "python",
   "name": "python3"
  },
  "language_info": {
   "codemirror_mode": {
    "name": "ipython",
    "version": 3
   },
   "file_extension": ".py",
   "mimetype": "text/x-python",
   "name": "python",
   "nbconvert_exporter": "python",
   "pygments_lexer": "ipython3",
   "version": "3.7.7"
  }
 },
 "nbformat": 4,
 "nbformat_minor": 4
}
