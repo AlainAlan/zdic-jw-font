{
 "cells": [
  {
   "cell_type": "code",
   "execution_count": 1,
   "metadata": {},
   "outputs": [],
   "source": [
    "# 搗包\n",
    "import os\n",
    "import requests\n",
    "from bs4 import BeautifulSoup\n",
    "import urllib.parse\n",
    "import time"
   ]
  },
  {
   "cell_type": "markdown",
   "metadata": {},
   "source": [
    "# 挑選字符"
   ]
  },
  {
   "cell_type": "code",
   "execution_count": 4,
   "metadata": {},
   "outputs": [
    {
     "name": "stdout",
     "output_type": "stream",
     "text": [
      "6000\n"
     ]
    },
    {
     "data": {
      "text/plain": [
       "['的', '是', '不', '我', '一']"
      ]
     },
     "execution_count": 4,
     "metadata": {},
     "output_type": "execute_result"
    }
   ],
   "source": [
    "字頻 = []\n",
    "with open('characters_traditional_frequencies.csv', 'r',encoding='utf8') as f: # 您瞧這名字多長\n",
    "    lines = f.readlines()[0:6000] # 我覺得三千差不多了，再多字都不認識了還背啥音韻地位\n",
    "    for line in lines:\n",
    "        字頻.append(line.split(',')[0].strip())\n",
    "print(len(字頻))\n",
    "字頻[0:5]\n",
    "# 第一個是什麽鬼\n",
    "字頻.pop(0)\n",
    "字頻[0:5]"
   ]
  },
  {
   "cell_type": "markdown",
   "metadata": {},
   "source": [
    "# 爬取字符"
   ]
  },
  {
   "cell_type": "code",
   "execution_count": 7,
   "metadata": {},
   "outputs": [],
   "source": [
    "headers = {'User-Agent': 'Mozilla/5.0 (Windows NT 10.0; Win64; x64) AppleWebKit/537.36 (KHTML, like Gecko) Chrome/90.0.4430.212 Safari/537.36'}"
   ]
  },
  {
   "cell_type": "code",
   "execution_count": 19,
   "metadata": {},
   "outputs": [
    {
     "data": {
      "text/plain": [
       "'破'"
      ]
     },
     "execution_count": 19,
     "metadata": {},
     "output_type": "execute_result"
    }
   ],
   "source": [
    "字頻[499]\n",
    "# 由於測試階段曾爬取100之前，故此處從99開始。"
   ]
  },
  {
   "cell_type": "code",
   "execution_count": 18,
   "metadata": {},
   "outputs": [
    {
     "name": "stdout",
     "output_type": "stream",
     "text": [
      "線沒有金文\n",
      "腦沒有金文\n",
      "修沒有金文\n",
      "錢沒有金文\n",
      "吃沒有金文\n",
      "住沒有金文\n",
      "另沒有金文\n",
      "錄沒有金文\n",
      "換沒有金文\n",
      "板沒有金文\n",
      "拿沒有金文\n",
      "形沒有金文\n",
      "孩沒有金文\n",
      "幫沒有金文\n",
      "確沒有金文\n",
      "候沒有金文\n",
      "除沒有金文\n",
      "裝沒有金文\n",
      "類沒有金文\n",
      "講沒有金文\n",
      "案沒有金文\n",
      "訴沒有金文\n",
      "久沒有金文\n",
      "掉沒有金文\n",
      "似沒有金文\n",
      "迷沒有金文\n",
      "賽沒有金文\n",
      "奇沒有金文\n",
      "超沒有金文\n",
      "運沒有金文\n",
      "權沒有金文\n",
      "驗沒有金文\n",
      "讀沒有金文\n",
      "怪沒有金文\n",
      "飛沒有金文\n",
      "滿沒有金文\n",
      "收沒有金文\n",
      "眼沒有金文\n",
      "課沒有金文\n",
      "破沒有金文\n"
     ]
    }
   ],
   "source": [
    "# for zi in 字頻[79:100]:\n",
    "for zi in 字頻[400:500]:\n",
    "#     print(zi)\n",
    "    zi_parse = urllib.parse.quote(zi)\n",
    "    url = 'https://www.zdic.net/zd/zx/jw/' + zi_parse\n",
    "    r = requests.get(url,headers=headers)\n",
    "    text = r.text\n",
    "    soup = BeautifulSoup(text, 'html.parser')\n",
    "    try:\n",
    "        jw = soup.find(name='div',attrs={\"class\": \"zy1\"})\n",
    "        img_list = jw.find_all(name='img')\n",
    "        \n",
    "        headers['Referer'] = url\n",
    "\n",
    "        for img in img_list[0:1]:\n",
    "            # 暫時只要第一個\n",
    "            src = 'https:'+ img.get('data-original')\n",
    "            res = requests.get(url=src,headers=headers)\n",
    "            filename = zi+'.svg'\n",
    "            with open(filename,'wb') as f:\n",
    "                f.write(res.content)        \n",
    "    except:\n",
    "        print(zi+'沒有金文')\n",
    "        continue\n",
    "    time.sleep(8)"
   ]
  },
  {
   "cell_type": "markdown",
   "metadata": {},
   "source": [
    "# 去掉水印"
   ]
  },
  {
   "cell_type": "code",
   "execution_count": null,
   "metadata": {},
   "outputs": [],
   "source": [
    "# 將爬取的全部文件放到“去水印”文件夾中\n",
    "# https://blog.csdn.net/qq_37174526/article/details/89489212\n",
    "from xml.dom.minidom import parse\n",
    "\n",
    "def 去水印(filename):\n",
    "    svg = parse(filename)\n",
    "    rootNode = svg.documentElement\n",
    "#     print(rootNode.nodeName)\n",
    "    gs = rootNode.getElementsByTagName(\"g\")\n",
    "    for g in gs:\n",
    "        if g.hasAttribute('fill'):\n",
    "            color = g.getAttribute('fill')\n",
    "            if color[-2:] in ['fa','fb','fc']:\n",
    "#                 print(color)\n",
    "                rootNode.removeChild(g)\n",
    "\n",
    "    path = rootNode.getElementsByTagName(\"path\")\n",
    "    for p in path:\n",
    "        if p.hasAttribute('fill'):\n",
    "            color = p.getAttribute('fill')\n",
    "    #         print(color[-2:])\n",
    "            if color[-2:] in ['fa','fb','fc']:\n",
    "#                 print(color)\n",
    "                rootNode.removeChild(p)\n",
    "    # print(rootNode.toxml())\n",
    "    with open(filename,'w') as f:\n",
    "        f.write(rootNode.toxml())\n",
    "        \n",
    "## 注釋：\n",
    "# 水印的位置和中英文是隨機的，但顔色是近似的，故而利用fill的顔色來判斷是否是水印\n",
    "# 在瀏覽器中不可見，但是在轉換爲字體之後，會顯現出顔色（單色）\n",
    "# 所以利用xml的優勢去除水印"
   ]
  },
  {
   "cell_type": "code",
   "execution_count": null,
   "metadata": {},
   "outputs": [],
   "source": [
    "# 獲取所有文件名\n",
    "# 懶得寫代碼，沒有確認文件擴展名，\n",
    "# 所以需要手動刪除測試中生成的其他文件\n",
    "L = []\n",
    "for home, dirs, files in os.walk('去水印'): \n",
    "     for file in files:\n",
    "        L.append(os.path.join(home, file))\n",
    "len(L)\n",
    "# https://www.cnblogs.com/frisk/p/11567175.html"
   ]
  },
  {
   "cell_type": "code",
   "execution_count": null,
   "metadata": {},
   "outputs": [],
   "source": [
    "for l in L:\n",
    "    去水印(l)"
   ]
  },
  {
   "cell_type": "markdown",
   "metadata": {},
   "source": [
    "# 輸出Node.js代碼"
   ]
  },
  {
   "cell_type": "code",
   "execution_count": null,
   "metadata": {},
   "outputs": [],
   "source": [
    "with open('create_font.js','w',encoding='utf8') as f:\n",
    "    f.write('''\n",
    "var fontCarrier = require('font-carrier')\\n\n",
    "var font = fontCarrier.create()\\n\n",
    "var fs = require('fs')\\n\n",
    "''')\n",
    "    # https://stackoverflow.com/questions/29835440/meteor-referenceerror-fs-is-not-defined\n",
    "    for l in L:\n",
    "        char = l.split('.')[0][-1]\n",
    "        jscode = \"font.setSvg('\" + char + \"', fs.readFileSync('\" + l.replace('\\\\','/') + \"').toString())\\n\"\n",
    "        f.write(jscode)\n",
    "    f.write('''\n",
    "font.output({\n",
    "    path: './iconfont'\n",
    "})\n",
    "    ''')"
   ]
  },
  {
   "cell_type": "markdown",
   "metadata": {},
   "source": [
    "# 後續操作\n",
    "打開PowerShell, 安裝font-carrier后\n",
    "輸入\n",
    "```\n",
    "node create_font.js\n",
    "```\n",
    "即可獲得輸出的多種格式的字體文件"
   ]
  }
 ],
 "metadata": {
  "kernelspec": {
   "display_name": "Python 3",
   "language": "python",
   "name": "python3"
  },
  "language_info": {
   "codemirror_mode": {
    "name": "ipython",
    "version": 3
   },
   "file_extension": ".py",
   "mimetype": "text/x-python",
   "name": "python",
   "nbconvert_exporter": "python",
   "pygments_lexer": "ipython3",
   "version": "3.7.7"
  }
 },
 "nbformat": 4,
 "nbformat_minor": 4
}
